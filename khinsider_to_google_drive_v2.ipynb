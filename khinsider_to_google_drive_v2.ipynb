{
  "nbformat": 4,
  "nbformat_minor": 0,
  "metadata": {
    "colab": {
      "name": "khinsider to google drive v2.ipynb",
      "provenance": [],
      "authorship_tag": "ABX9TyNLW1f/8eNw3SXBZvbjaR0W",
      "include_colab_link": true
    },
    "kernelspec": {
      "name": "python3",
      "display_name": "Python 3"
    },
    "language_info": {
      "name": "python"
    }
  },
  "cells": [
    {
      "cell_type": "markdown",
      "metadata": {
        "id": "view-in-github",
        "colab_type": "text"
      },
      "source": [
        "<a href=\"https://colab.research.google.com/github/ethanaobrien/khinsider-to-google-drive/blob/main/khinsider_to_google_drive_v2.ipynb\" target=\"_parent\"><img src=\"https://colab.research.google.com/assets/colab-badge.svg\" alt=\"Open In Colab\"/></a>"
      ]
    },
    {
      "cell_type": "markdown",
      "metadata": {
        "id": "WQcLteXanrn4"
      },
      "source": [
        "#khinsider to google drive v2"
      ]
    },
    {
      "cell_type": "markdown",
      "metadata": {
        "id": "UbakJEqencmj"
      },
      "source": [
        "##Mount Google Drive\n",
        "\n"
      ]
    },
    {
      "cell_type": "code",
      "metadata": {
        "id": "O6Vrkiy2nSwK"
      },
      "source": [
        "from google.colab import drive\n",
        "drive.mount('/content/drive')"
      ],
      "execution_count": null,
      "outputs": []
    },
    {
      "cell_type": "markdown",
      "metadata": {
        "id": "-SXBPz0Jnd4Q"
      },
      "source": [
        "##Download Dependencies"
      ]
    },
    {
      "cell_type": "code",
      "metadata": {
        "id": "olayYDLlnHuI"
      },
      "source": [
        "!apt install python python-pip && pip install wget"
      ],
      "execution_count": null,
      "outputs": []
    },
    {
      "cell_type": "markdown",
      "metadata": {
        "id": "hJ0MwSEnnwYP"
      },
      "source": [
        "##Code to Download"
      ]
    },
    {
      "cell_type": "code",
      "metadata": {
        "id": "l-PMyRDFny9H"
      },
      "source": [
        "import wget\n",
        "import os\n",
        "\n",
        "url = 'https://raw.githubusercontent.com/obskyr/khinsider/master/khinsider.py'\n",
        "path = '/content/drive/MyDrive/khinsider/khinsider.py'\n",
        "if os.path.isdir('/content/drive/MyDrive/khinsider'):\n",
        "   print(\"khinsider path found\\n\")\n",
        "else:\n",
        "  os.mkdir('/content/drive/MyDrive/khinsider')\n",
        "  print(\"khinsider path made\\n\")\n",
        "filename = path\n",
        "if os.path.exists(filename):\n",
        "  os.remove(filename)\n",
        "filename = wget.download(url, path)"
      ],
      "execution_count": null,
      "outputs": []
    },
    {
      "cell_type": "code",
      "metadata": {
        "id": "cvhLTvonrnX3"
      },
      "source": [
        "!python '/content/drive/MyDrive/khinsider/khinsider.py' DELETE-THIS-AND-INPUT-LINK-HERE"
      ],
      "execution_count": null,
      "outputs": []
    }
  ]
}